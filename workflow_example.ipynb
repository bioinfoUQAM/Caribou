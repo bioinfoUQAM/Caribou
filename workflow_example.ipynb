{
 "cells": [
  {
   "attachments": {},
   "cell_type": "markdown",
   "metadata": {},
   "source": [
    "# Environment"
   ]
  },
  {
   "cell_type": "code",
   "execution_count": 1,
   "metadata": {
    "vscode": {
     "languageId": "shellscript"
    }
   },
   "outputs": [],
   "source": [
    "rm -r output/"
   ]
  },
  {
   "cell_type": "code",
   "execution_count": 2,
   "metadata": {},
   "outputs": [],
   "source": [
    "import os\n",
    "import gc\n",
    "import ray\n",
    "import json\n",
    "import numpy as np\n",
    "import pandas as pd\n",
    "import seaborn as sns\n",
    "\n",
    "from pathlib import Path\n",
    "from src.utils import *\n",
    "\n",
    "# K-mers\n",
    "from src.data.seq_collections import SeqCollection\n",
    "from src.data.kmers_collection import KmersCollection\n",
    "\n",
    "# Preprocessing\n",
    "from src.models.kerasTF.ray_one_hot_tensor import OneHotTensorEncoder\n",
    "from ray.data.preprocessors import Chain, LabelEncoder\n",
    "from src.models.ray_tensor_min_max import TensorMinMaxScaler\n",
    "from src.models.sklearn.ray_sklearn_onesvm_encoder import OneClassSVMLabelEncoder\n",
    "\n",
    "# Training\n",
    "import tensorflow as tf\n",
    "from ray.air import session\n",
    "from sklearn.linear_model import SGDOneClassSVM\n",
    "from ray.air.integrations.keras import Callback\n",
    "from src.models.kerasTF.build_neural_networks import *\n",
    "from src.models.sklearn.ray_sklearn_partial_trainer import SklearnPartialTrainer\n",
    "from ray.train.tensorflow import TensorflowTrainer, TensorflowCheckpoint, prepare_dataset_shard\n",
    "\n",
    "# Tuning\n",
    "from ray.air.config import RunConfig, ScalingConfig, DatasetConfig\n",
    "\n",
    "# Predicting\n",
    "from ray.train.sklearn import SklearnPredictor\n",
    "from ray.train.tensorflow import TensorflowPredictor\n",
    "from ray.train.batch_predictor import BatchPredictor\n",
    "from joblib import Parallel, delayed, parallel_backend\n",
    "\n",
    "# Simulation\n",
    "from src.models.reads_simulation import readsSimulation\n"
   ]
  },
  {
   "attachments": {},
   "cell_type": "markdown",
   "metadata": {},
   "source": [
    "# Parameters / global variables"
   ]
  },
  {
   "attachments": {},
   "cell_type": "markdown",
   "metadata": {},
   "source": [
    "### Definition"
   ]
  },
  {
   "cell_type": "code",
   "execution_count": 3,
   "metadata": {},
   "outputs": [],
   "source": [
    "# Names\n",
    "db_name = '30_genomes'\n",
    "host_name = 'cucurbita_3'\n",
    "metagenome_name = 'metagenome'\n",
    "# IO\n",
    "db_fasta = 'example_data/30_genomes.fna.gz'\n",
    "db_cls = 'example_data/30_genomes.csv'\n",
    "host_fasta = 'example_data/cucurbita_sample_3.fna.gz'\n",
    "host_cls = 'example_data/cucurbita_sample_3.csv'\n",
    "metagenome_fasta = 'example_data/metagenome.fna.gz'\n",
    "metagenome_cls = 'example_data/metagenome.csv'\n",
    "outdir = 'output/'\n",
    "workdir = '/tmp/spill'\n",
    "# Settings\n",
    "klen = 5\n",
    "batch_size = 1\n",
    "epochs = 10\n",
    "classif_threshold = 0.8\n",
    "features_threshold = np.inf\n",
    "nb_features = np.inf"
   ]
  },
  {
   "attachments": {},
   "cell_type": "markdown",
   "metadata": {},
   "source": [
    "### Verification"
   ]
  },
  {
   "cell_type": "code",
   "execution_count": 4,
   "metadata": {},
   "outputs": [],
   "source": [
    "# IO\n",
    "verify_seqfiles(db_fasta,host_fasta)\n",
    "verify_fasta(metagenome_fasta)\n",
    "verify_file(db_cls)\n",
    "verify_file(host_cls)\n",
    "verify_file(metagenome_cls)\n",
    "# Settings\n",
    "verify_positive_int(klen, 'kmers length')\n",
    "verify_positive_int(batch_size, 'training batch size')\n",
    "verify_positive_int(epochs, 'number of iterations in neural networks training')\n",
    "verify_0_1(classif_threshold, 'classification threshold')\n",
    "# Folders creation for output\n",
    "if not os.path.isdir(outdir):\n",
    "    os.makedirs(outdir)\n",
    "outdirs = define_create_outdirs(outdir)"
   ]
  },
  {
   "attachments": {},
   "cell_type": "markdown",
   "metadata": {},
   "source": [
    "### Cluster initialization"
   ]
  },
  {
   "cell_type": "code",
   "execution_count": 5,
   "metadata": {},
   "outputs": [
    {
     "name": "stderr",
     "output_type": "stream",
     "text": [
      "2023-03-13 15:50:18,083\tINFO worker.py:1529 -- Started a local Ray instance. View the dashboard at \u001b[1m\u001b[32mhttp://127.0.0.1:8265 \u001b[39m\u001b[22m\n"
     ]
    },
    {
     "data": {
      "text/html": [
       "<div>\n",
       "    <div style=\"margin-left: 50px;display: flex;flex-direction: row;align-items: center\">\n",
       "        <h3 style=\"color: var(--jp-ui-font-color0)\">Ray</h3>\n",
       "        <svg version=\"1.1\" id=\"ray\" width=\"3em\" viewBox=\"0 0 144.5 144.6\" style=\"margin-left: 3em;margin-right: 3em\">\n",
       "            <g id=\"layer-1\">\n",
       "                <path fill=\"#00a2e9\" class=\"st0\" d=\"M97.3,77.2c-3.8-1.1-6.2,0.9-8.3,5.1c-3.5,6.8-9.9,9.9-17.4,9.6S58,88.1,54.8,81.2c-1.4-3-3-4-6.3-4.1\n",
       "                    c-5.6-0.1-9.9,0.1-13.1,6.4c-3.8,7.6-13.6,10.2-21.8,7.6C5.2,88.4-0.4,80.5,0,71.7c0.1-8.4,5.7-15.8,13.8-18.2\n",
       "                    c8.4-2.6,17.5,0.7,22.3,8c1.3,1.9,1.3,5.2,3.6,5.6c3.9,0.6,8,0.2,12,0.2c1.8,0,1.9-1.6,2.4-2.8c3.5-7.8,9.7-11.8,18-11.9\n",
       "                    c8.2-0.1,14.4,3.9,17.8,11.4c1.3,2.8,2.9,3.6,5.7,3.3c1-0.1,2,0.1,3,0c2.8-0.5,6.4,1.7,8.1-2.7s-2.3-5.5-4.1-7.5\n",
       "                    c-5.1-5.7-10.9-10.8-16.1-16.3C84,38,81.9,37.1,78,38.3C66.7,42,56.2,35.7,53,24.1C50.3,14,57.3,2.8,67.7,0.5\n",
       "                    C78.4-2,89,4.7,91.5,15.3c0.1,0.3,0.1,0.5,0.2,0.8c0.7,3.4,0.7,6.9-0.8,9.8c-1.7,3.2-0.8,5,1.5,7.2c6.7,6.5,13.3,13,19.8,19.7\n",
       "                    c1.8,1.8,3,2.1,5.5,1.2c9.1-3.4,17.9-0.6,23.4,7c4.8,6.9,4.6,16.1-0.4,22.9c-5.4,7.2-14.2,9.9-23.1,6.5c-2.3-0.9-3.5-0.6-5.1,1.1\n",
       "                    c-6.7,6.9-13.6,13.7-20.5,20.4c-1.8,1.8-2.5,3.2-1.4,5.9c3.5,8.7,0.3,18.6-7.7,23.6c-7.9,5-18.2,3.8-24.8-2.9\n",
       "                    c-6.4-6.4-7.4-16.2-2.5-24.3c4.9-7.8,14.5-11,23.1-7.8c3,1.1,4.7,0.5,6.9-1.7C91.7,98.4,98,92.3,104.2,86c1.6-1.6,4.1-2.7,2.6-6.2\n",
       "                    c-1.4-3.3-3.8-2.5-6.2-2.6C99.8,77.2,98.9,77.2,97.3,77.2z M72.1,29.7c5.5,0.1,9.9-4.3,10-9.8c0-0.1,0-0.2,0-0.3\n",
       "                    C81.8,14,77,9.8,71.5,10.2c-5,0.3-9,4.2-9.3,9.2c-0.2,5.5,4,10.1,9.5,10.3C71.8,29.7,72,29.7,72.1,29.7z M72.3,62.3\n",
       "                    c-5.4-0.1-9.9,4.2-10.1,9.7c0,0.2,0,0.3,0,0.5c0.2,5.4,4.5,9.7,9.9,10c5.1,0.1,9.9-4.7,10.1-9.8c0.2-5.5-4-10-9.5-10.3\n",
       "                    C72.6,62.3,72.4,62.3,72.3,62.3z M115,72.5c0.1,5.4,4.5,9.7,9.8,9.9c5.6-0.2,10-4.8,10-10.4c-0.2-5.4-4.6-9.7-10-9.7\n",
       "                    c-5.3-0.1-9.8,4.2-9.9,9.5C115,72.1,115,72.3,115,72.5z M19.5,62.3c-5.4,0.1-9.8,4.4-10,9.8c-0.1,5.1,5.2,10.4,10.2,10.3\n",
       "                    c5.6-0.2,10-4.9,9.8-10.5c-0.1-5.4-4.5-9.7-9.9-9.6C19.6,62.3,19.5,62.3,19.5,62.3z M71.8,134.6c5.9,0.2,10.3-3.9,10.4-9.6\n",
       "                    c0.5-5.5-3.6-10.4-9.1-10.8c-5.5-0.5-10.4,3.6-10.8,9.1c0,0.5,0,0.9,0,1.4c-0.2,5.3,4,9.8,9.3,10\n",
       "                    C71.6,134.6,71.7,134.6,71.8,134.6z\"/>\n",
       "            </g>\n",
       "        </svg>\n",
       "        <table>\n",
       "            <tr>\n",
       "                <td style=\"text-align: left\"><b>Python version:</b></td>\n",
       "                <td style=\"text-align: left\"><b>3.8.10</b></td>\n",
       "            </tr>\n",
       "            <tr>\n",
       "                <td style=\"text-align: left\"><b>Ray version:</b></td>\n",
       "                <td style=\"text-align: left\"><b> 2.2.0</b></td>\n",
       "            </tr>\n",
       "            <tr>\n",
       "    <td style=\"text-align: left\"><b>Dashboard:</b></td>\n",
       "    <td style=\"text-align: left\"><b><a href=\"http://127.0.0.1:8265\" target=\"_blank\">http://127.0.0.1:8265</a></b></td>\n",
       "</tr>\n",
       "\n",
       "        </table>\n",
       "    </div>\n",
       "</div>\n"
      ],
      "text/plain": [
       "RayContext(dashboard_url='127.0.0.1:8265', python_version='3.8.10', ray_version='2.2.0', ray_commit='b6af0887ee5f2e460202133791ad941a41f15beb', address_info={'node_ip_address': '192.168.65.207', 'raylet_ip_address': '192.168.65.207', 'redis_address': None, 'object_store_address': '/tmp/ray/session_2023-03-13_15-50-16_029330_21098/sockets/plasma_store', 'raylet_socket_name': '/tmp/ray/session_2023-03-13_15-50-16_029330_21098/sockets/raylet', 'webui_url': '127.0.0.1:8265', 'session_dir': '/tmp/ray/session_2023-03-13_15-50-16_029330_21098', 'metrics_export_port': 63058, 'gcs_address': '192.168.65.207:65125', 'address': '192.168.65.207:65125', 'dashboard_agent_listen_port': 52365, 'node_id': 'd571557535c8ecc41d103c8ee18b50f1f1cdf8deedd4632d2bd18525'})"
      ]
     },
     "execution_count": 5,
     "metadata": {},
     "output_type": "execute_result"
    }
   ],
   "source": [
    "ray.init(\n",
    "    _system_config={\n",
    "        'object_spilling_config': json.dumps(\n",
    "            {'type': 'filesystem', 'params': {'directory_path': str(workdir)}})\n",
    "    }\n",
    ")"
   ]
  },
  {
   "attachments": {},
   "cell_type": "markdown",
   "metadata": {},
   "source": [
    "# K-mers"
   ]
  },
  {
   "attachments": {},
   "cell_type": "markdown",
   "metadata": {},
   "source": [
    "### Local variables"
   ]
  },
  {
   "cell_type": "code",
   "execution_count": 6,
   "metadata": {},
   "outputs": [],
   "source": [
    "db_kmers_data = {}\n",
    "db_seqdata = None\n",
    "db_kmers_collection = None\n",
    "host_kmers_data = {}\n",
    "host_seqdata = None\n",
    "host_kmers_collection = None\n",
    "metagenome_kmers_data = {}\n",
    "metagenome_seqdata = None\n",
    "metagenome_kmers_collection = None"
   ]
  },
  {
   "attachments": {},
   "cell_type": "markdown",
   "metadata": {},
   "source": [
    "### Filenames"
   ]
  },
  {
   "cell_type": "code",
   "execution_count": 7,
   "metadata": {},
   "outputs": [],
   "source": [
    "# Filenames\n",
    "db_profile_file = os.path.join(outdirs['data_dir'], f'profile_genome_{db_name}_data_K{klen}')\n",
    "host_profile_file = os.path.join(outdirs['data_dir'], f'profile_genome_{host_name}_data_K{klen}')\n",
    "metagenome_profile_file = os.path.join(outdirs['data_dir'], f'profile_genome_{metagenome_name}_data_K{klen}')"
   ]
  },
  {
   "attachments": {},
   "cell_type": "markdown",
   "metadata": {},
   "source": [
    "### Seqdata"
   ]
  },
  {
   "cell_type": "code",
   "execution_count": 8,
   "metadata": {},
   "outputs": [],
   "source": [
    "db_seqdata = SeqCollection((db_fasta, db_cls))\n",
    "host_seqdata = SeqCollection((host_fasta, host_cls))\n",
    "metagenome_seqdata = SeqCollection(metagenome_fasta)"
   ]
  },
  {
   "attachments": {},
   "cell_type": "markdown",
   "metadata": {},
   "source": [
    "### K-mers collections"
   ]
  },
  {
   "cell_type": "code",
   "execution_count": 9,
   "metadata": {},
   "outputs": [
    {
     "name": "stdout",
     "output_type": "stream",
     "text": [
      "seen_kmers\n"
     ]
    },
    {
     "name": "stderr",
     "output_type": "stream",
     "text": [
      "[Parallel(n_jobs=-1)]: Using backend ThreadingBackend with 8 concurrent workers.\n",
      "[Parallel(n_jobs=-1)]: Done  30 out of  30 | elapsed:    1.7s finished\n"
     ]
    },
    {
     "name": "stdout",
     "output_type": "stream",
     "text": [
      "_batch_read_write_seen\n"
     ]
    },
    {
     "name": "stderr",
     "output_type": "stream",
     "text": [
      "Map_Batches: 100%|██████████| 29/29 [00:00<00:00, 102.58it/s]\n",
      "Repartition: 100%|██████████| 29/29 [00:00<00:00, 746.53it/s]\n",
      "Repartition: 100%|██████████| 29/29 [00:00<00:00, 768.93it/s]\n",
      "Repartition: 100%|██████████| 29/29 [00:00<00:00, 686.86it/s]\n",
      "Write Progress: 100%|██████████| 29/29 [00:00<00:00, 348.20it/s]\n",
      "[Parallel(n_jobs=-1)]: Using backend ThreadingBackend with 8 concurrent workers.\n"
     ]
    },
    {
     "name": "stdout",
     "output_type": "stream",
     "text": [
      "given_kmers\n"
     ]
    },
    {
     "name": "stderr",
     "output_type": "stream",
     "text": [
      "[Parallel(n_jobs=-1)]: Done   3 out of   3 | elapsed:    0.4s finished\n"
     ]
    },
    {
     "name": "stdout",
     "output_type": "stream",
     "text": [
      "_batch_read_write_given\n"
     ]
    },
    {
     "name": "stderr",
     "output_type": "stream",
     "text": [
      "Repartition: 100%|██████████| 3/3 [00:00<00:00, 351.92it/s]\n",
      "Repartition: 100%|██████████| 3/3 [00:00<00:00, 462.91it/s]\n",
      "Repartition: 100%|██████████| 3/3 [00:00<00:00, 410.64it/s]\n",
      "Write Progress: 100%|██████████| 3/3 [00:00<00:00, 162.88it/s]\n"
     ]
    },
    {
     "name": "stdout",
     "output_type": "stream",
     "text": [
      "given_kmers\n"
     ]
    },
    {
     "name": "stderr",
     "output_type": "stream",
     "text": [
      "[Parallel(n_jobs=-1)]: Using backend ThreadingBackend with 8 concurrent workers.\n",
      "[Parallel(n_jobs=-1)]: Done  34 tasks      | elapsed:    2.5s\n",
      "[Parallel(n_jobs=-1)]: Done 184 tasks      | elapsed:   10.6s\n",
      "[Parallel(n_jobs=-1)]: Done 298 out of 298 | elapsed:   17.6s finished\n"
     ]
    },
    {
     "name": "stdout",
     "output_type": "stream",
     "text": [
      "_batch_read_write_given\n"
     ]
    },
    {
     "name": "stderr",
     "output_type": "stream",
     "text": [
      "Repartition: 100%|██████████| 298/298 [00:00<00:00, 1246.26it/s]\n",
      "Repartition: 100%|██████████| 298/298 [00:00<00:00, 1496.60it/s]\n",
      "Repartition: 100%|██████████| 298/298 [00:00<00:00, 1387.83it/s]\n",
      "Write Progress: 100%|██████████| 298/298 [00:01<00:00, 246.96it/s]\n"
     ]
    }
   ],
   "source": [
    "db_kmers_collection = KmersCollection(\n",
    "    db_seqdata,\n",
    "    db_profile_file,\n",
    "    klen,\n",
    "    db_name,\n",
    "    None,\n",
    "    features_threshold,\n",
    "    nb_features\n",
    ")\n",
    "kmers_list = db_kmers_collection.kmers_list\n",
    "host_kmers_collection = KmersCollection(\n",
    "    host_seqdata,\n",
    "    host_profile_file,\n",
    "    klen,\n",
    "    host_name,\n",
    "    kmers_list,\n",
    "    np.inf,\n",
    "    np.inf\n",
    ")\n",
    "metagenome_kmers_collection = KmersCollection(\n",
    "    metagenome_seqdata,\n",
    "    metagenome_profile_file,\n",
    "    klen,\n",
    "    metagenome_name,\n",
    "    kmers_list\n",
    ")"
   ]
  },
  {
   "attachments": {},
   "cell_type": "markdown",
   "metadata": {},
   "source": [
    "### K-mers data"
   ]
  },
  {
   "cell_type": "code",
   "execution_count": 10,
   "metadata": {},
   "outputs": [],
   "source": [
    "db_kmers_data['profile'] = db_kmers_collection.Xy_file\n",
    "db_kmers_data['ids'] = db_kmers_collection.ids\n",
    "db_kmers_data['classes'] = db_kmers_collection.classes\n",
    "db_kmers_data['kmers'] = kmers_list\n",
    "db_kmers_data['taxas'] = db_kmers_collection.taxas\n",
    "db_kmers_data['fasta'] = db_fasta\n",
    "#\n",
    "host_kmers_data['profile'] = host_kmers_collection.Xy_file\n",
    "host_kmers_data['ids'] = host_kmers_collection.ids\n",
    "host_kmers_data['classes'] = host_kmers_collection.classes\n",
    "host_kmers_data['kmers'] = kmers_list\n",
    "host_kmers_data['taxas'] = host_kmers_collection.taxas\n",
    "host_kmers_data['fasta'] = host_fasta\n",
    "#\n",
    "metagenome_kmers_data['profile'] = metagenome_kmers_collection.Xy_file\n",
    "metagenome_kmers_data['ids'] = metagenome_kmers_collection.ids\n",
    "metagenome_kmers_data['kmers'] = kmers_list"
   ]
  },
  {
   "attachments": {},
   "cell_type": "markdown",
   "metadata": {},
   "source": [
    "# Bacteria isolation - OneClassSVM"
   ]
  },
  {
   "attachments": {},
   "cell_type": "markdown",
   "metadata": {},
   "source": [
    "### DB + Host merging"
   ]
  },
  {
   "cell_type": "code",
   "execution_count": 12,
   "metadata": {},
   "outputs": [
    {
     "name": "stderr",
     "output_type": "stream",
     "text": [
      "Read progress: 100%|██████████| 19/19 [00:00<00:00, 2026.08it/s]\n",
      "Write Progress: 100%|██████████| 19/19 [00:00<00:00, 39.44it/s]\n"
     ]
    }
   ],
   "source": [
    "merged_kmers_data = {}\n",
    "\n",
    "merged_kmers_data['profile'] = \"{}_host_merged\".format(os.path.splitext(db_kmers_data[\"profile\"])[0]) # Kmers profile\n",
    "\n",
    "merged_cls = pd.DataFrame(db_kmers_data[\"classes\"], columns=db_kmers_data[\"taxas\"])\n",
    "df_cls_host = pd.DataFrame(host_kmers_data[\"classes\"], columns=host_kmers_data[\"taxas\"])\n",
    "\n",
    "if len(np.unique(merged_cls['domain'])) != 1:\n",
    "    merged_cls[merged_cls != 'bacteria'] = 'bacteria'\n",
    "if len(df_cls_host) > len(host_kmers_data['ids']):\n",
    "    to_remove = np.arange(len(df_cls_host) - len(host_kmers_data['ids']))\n",
    "    df_cls_host.drop(to_remove, axis=0, inplace=True)\n",
    "elif len(df_cls_host) < len(host_kmers_data['ids']):\n",
    "    diff = len(host_kmers_data['ids']) - len(df_cls_host)\n",
    "    row = df_cls_host.iloc[0]\n",
    "    for i in range(diff):\n",
    "        df_cls_host = pd.concat([df_cls_host, row.to_frame().T], ignore_index=True)\n",
    "\n",
    "merged_cls = pd.concat([merged_cls, df_cls_host], ignore_index=True)\n",
    "merged_kmers_data['classes'] = np.array(merged_cls)  # Class labels\n",
    "merged_kmers_data['ids'] = np.concatenate((db_kmers_data[\"ids\"], host_kmers_data[\"ids\"]))  # IDs\n",
    "merged_kmers_data['kmers'] = db_kmers_data[\"kmers\"]  # Features\n",
    "merged_kmers_data['taxas'] = db_kmers_data[\"taxas\"]  # Known taxas for classification\n",
    "merged_kmers_data['fasta'] = (db_kmers_data['fasta'], host_kmers_data['fasta'])  # Fasta file needed for reads simulation\n",
    "\n",
    "merged_df = db_df.union(host_df)\n",
    "merged_df.write_parquet(merged_kmers_data['profile'])"
   ]
  },
  {
   "cell_type": "code",
   "execution_count": 13,
   "metadata": {},
   "outputs": [
    {
     "name": "stderr",
     "output_type": "stream",
     "text": [
      "Read: 100%|██████████| 19/19 [00:00<00:00, 245.11it/s]\n",
      "Repartition: 100%|██████████| 32/32 [00:00<00:00, 959.07it/s]\n",
      "Repartition: 100%|██████████| 32/32 [00:00<00:00, 901.95it/s]\n",
      "Repartition: 100%|██████████| 19/19 [00:00<00:00, 478.89it/s]\n",
      "Repartition: 100%|██████████| 19/19 [00:00<00:00, 555.11it/s]\n"
     ]
    }
   ],
   "source": [
    "merged_df = zip_X_y(merged_df, merged_cls)"
   ]
  },
  {
   "attachments": {},
   "cell_type": "markdown",
   "metadata": {},
   "source": [
    "### Preprocessing"
   ]
  },
  {
   "cell_type": "code",
   "execution_count": 14,
   "metadata": {},
   "outputs": [],
   "source": [
    "encoded = []\n",
    "labels = []"
   ]
  },
  {
   "cell_type": "code",
   "execution_count": 15,
   "metadata": {},
   "outputs": [],
   "source": [
    "preprocessor = Chain(\n",
    "    TensorMinMaxScaler(db_kmers_data['kmers']),\n",
    "    OneClassSVMLabelEncoder('domain')\n",
    ")\n",
    "encoded = np.array([1,-1], dtype = np.int32)\n",
    "labels = np.array(['bacteria','unknown'],dtype = object)"
   ]
  },
  {
   "cell_type": "code",
   "execution_count": 16,
   "metadata": {},
   "outputs": [
    {
     "name": "stderr",
     "output_type": "stream",
     "text": [
      "Read: 100%|██████████| 16/16 [00:00<00:00, 234.67it/s]\n",
      "Repartition: 100%|██████████| 29/29 [00:00<00:00, 894.83it/s]\n",
      "Repartition: 100%|██████████| 29/29 [00:00<00:00, 754.86it/s]\n",
      "Repartition: 100%|██████████| 16/16 [00:00<00:00, 399.82it/s]\n",
      "Repartition: 100%|██████████| 16/16 [00:00<00:00, 451.36it/s]\n"
     ]
    }
   ],
   "source": [
    "db_cls = pd.read_csv(db_cls)\n",
    "if db_df.count() != len(db_cls):\n",
    "    db_ids = []\n",
    "    for row in db_df.iter_rows():\n",
    "        db_ids.append(row['id'])\n",
    "    db_cls = db_cls[db_cls['id'].isin(db_ids)]\n",
    "for col in db_cls.columns:\n",
    "            db_cls[col] = db_cls[col].str.lower()\n",
    "db_df = zip_X_y(db_df, db_cls)"
   ]
  },
  {
   "cell_type": "code",
   "execution_count": 17,
   "metadata": {},
   "outputs": [
    {
     "name": "stderr",
     "output_type": "stream",
     "text": [
      "Map_Batches: 100%|██████████| 16/16 [00:00<00:00, 61.55it/s]\n",
      "Map_Batches: 100%|██████████| 16/16 [00:00<00:00, 77.11it/s]\n",
      "Map_Batches: 100%|██████████| 16/16 [00:00<00:00, 113.17it/s]\n"
     ]
    }
   ],
   "source": [
    "preprocessor.fit(db_df)\n",
    "db_df = preprocessor.transform(db_df)"
   ]
  },
  {
   "attachments": {},
   "cell_type": "markdown",
   "metadata": {},
   "source": [
    "### Training"
   ]
  },
  {
   "cell_type": "code",
   "execution_count": 18,
   "metadata": {},
   "outputs": [],
   "source": [
    "clf = SGDOneClassSVM()\n",
    "train_params = {\n",
    "    'nu': 0.1,\n",
    "    'learning_rate': 'invscaling',\n",
    "    'eta0': 1000,\n",
    "    'tol': 1e-4\n",
    "}\n",
    "trainer = SklearnPartialTrainer(\n",
    "    estimator = clf,\n",
    "    label_column = 'domain',\n",
    "    labels_list = np.array([0,1], dtype = np.int32),\n",
    "    features_list = db_kmers_data['kmers'],\n",
    "    params = train_params,\n",
    "    datasets = {'train' : ray.put(db_df)},\n",
    "    batch_size = batch_size,\n",
    "    set_estimator_cpus = True,\n",
    "    scaling_config = ScalingConfig(\n",
    "        trainer_resources={\n",
    "            'CPU': int(os.cpu_count()*0.8)\n",
    "        }\n",
    "    ),\n",
    "    run_config = RunConfig(\n",
    "        name = 'OneClassSVM',\n",
    "        local_dir = workdir\n",
    "    ),\n",
    ")"
   ]
  },
  {
   "cell_type": "code",
   "execution_count": 19,
   "metadata": {},
   "outputs": [
    {
     "data": {
      "text/html": [
       "<div class=\"tuneStatus\">\n",
       "  <div style=\"display: flex;flex-direction: row\">\n",
       "    <div style=\"display: flex;flex-direction: column;\">\n",
       "      <h3>Tune Status</h3>\n",
       "      <table>\n",
       "<tbody>\n",
       "<tr><td>Current time:</td><td>2023-03-13 15:50:53</td></tr>\n",
       "<tr><td>Running for: </td><td>00:00:02.02        </td></tr>\n",
       "<tr><td>Memory:      </td><td>6.4/12.4 GiB       </td></tr>\n",
       "</tbody>\n",
       "</table>\n",
       "    </div>\n",
       "    <div class=\"vDivider\"></div>\n",
       "    <div class=\"systemInfo\">\n",
       "      <h3>System Info</h3>\n",
       "      Using FIFO scheduling algorithm.<br>Resources requested: 6.0/8 CPUs, 0/0 GPUs, 0.0/4.19 GiB heap, 0.0/2.1 GiB objects\n",
       "    </div>\n",
       "    \n",
       "  </div>\n",
       "  <div class=\"hDivider\"></div>\n",
       "  <div class=\"trialStatus\">\n",
       "    <h3>Trial Status</h3>\n",
       "    <table>\n",
       "<thead>\n",
       "<tr><th>Trial name                       </th><th>status  </th><th>loc                 </th></tr>\n",
       "</thead>\n",
       "<tbody>\n",
       "<tr><td>SklearnPartialTrainer_5b9c2_00000</td><td>RUNNING </td><td>192.168.65.207:28446</td></tr>\n",
       "</tbody>\n",
       "</table>\n",
       "  </div>\n",
       "</div>\n",
       "<style>\n",
       ".tuneStatus {\n",
       "  color: var(--jp-ui-font-color1);\n",
       "}\n",
       ".tuneStatus .systemInfo {\n",
       "  display: flex;\n",
       "  flex-direction: column;\n",
       "}\n",
       ".tuneStatus td {\n",
       "  white-space: nowrap;\n",
       "}\n",
       ".tuneStatus .trialStatus {\n",
       "  display: flex;\n",
       "  flex-direction: column;\n",
       "}\n",
       ".tuneStatus h3 {\n",
       "  font-weight: bold;\n",
       "}\n",
       ".tuneStatus .hDivider {\n",
       "  border-bottom-width: var(--jp-border-width);\n",
       "  border-bottom-color: var(--jp-border-color0);\n",
       "  border-bottom-style: solid;\n",
       "}\n",
       ".tuneStatus .vDivider {\n",
       "  border-left-width: var(--jp-border-width);\n",
       "  border-left-color: var(--jp-border-color0);\n",
       "  border-left-style: solid;\n",
       "  margin: 0.5em 1em 0.5em 1em;\n",
       "}\n",
       "</style>\n"
      ],
      "text/plain": [
       "<IPython.core.display.HTML object>"
      ]
     },
     "metadata": {},
     "output_type": "display_data"
    },
    {
     "name": "stderr",
     "output_type": "stream",
     "text": [
      "2023-03-13 15:50:55,186\tINFO tune.py:762 -- Total run time: 3.97 seconds (3.81 seconds for the tuning loop).\n"
     ]
    }
   ],
   "source": [
    "training_result = trainer.fit()\n",
    "model_ckpt = training_result.checkpoint"
   ]
  },
  {
   "attachments": {},
   "cell_type": "markdown",
   "metadata": {},
   "source": [
    "### Predicting"
   ]
  },
  {
   "cell_type": "code",
   "execution_count": 20,
   "metadata": {},
   "outputs": [
    {
     "name": "stderr",
     "output_type": "stream",
     "text": [
      "Read->Map_Batches: 100%|██████████| 16/16 [00:01<00:00,  9.14it/s]\n",
      "Map Progress (1 actors 1 pending): 100%|██████████| 16/16 [00:02<00:00,  6.15it/s]\n"
     ]
    }
   ],
   "source": [
    "metagenome_df = preprocessor.preprocessors[0].transform(metagenome_df)\n",
    "predictor = BatchPredictor.from_checkpoint(model_ckpt, SklearnPredictor)\n",
    "predictions = predictor.predict(metagenome_df, batch_size = batch_size)\n",
    "predictions = np.array(predictions.to_pandas()).reshape(-1)"
   ]
  },
  {
   "cell_type": "code",
   "execution_count": 21,
   "metadata": {},
   "outputs": [],
   "source": [
    "predictions_onesvm = pd.Series(np.empty(len(predictions), dtype=object))\n",
    "predictions_onesvm[predictions == 1] = 'bacteria'\n",
    "predictions_onesvm[predictions == -1] = 'unknown'\n"
   ]
  },
  {
   "attachments": {},
   "cell_type": "markdown",
   "metadata": {},
   "source": [
    "# Bacteria classification - WideCNN"
   ]
  },
  {
   "attachments": {},
   "cell_type": "markdown",
   "metadata": {},
   "source": [
    "### Preprocessing"
   ]
  },
  {
   "cell_type": "code",
   "execution_count": 22,
   "metadata": {},
   "outputs": [
    {
     "name": "stderr",
     "output_type": "stream",
     "text": [
      "Metadata Fetch Progress:   0%|          | 0/4 [00:00<?, ?it/s]\n",
      "Metadata Fetch Progress: 100%|██████████| 4/4 [00:00<00:00, 112.22it/s]id=28541)\u001b[0m \n",
      "Parquet Files Sample: 100%|██████████| 2/2 [00:00<00:00, 204.86it/s]\n",
      "Read: 100%|██████████| 16/16 [00:01<00:00, 12.87it/s]\n",
      "Repartition: 100%|██████████| 29/29 [00:00<00:00, 55.99it/s]\n",
      "Repartition: 100%|██████████| 29/29 [00:00<00:00, 587.80it/s]\n",
      "Repartition: 100%|██████████| 16/16 [00:00<00:00, 310.24it/s]\n",
      "Repartition: 100%|██████████| 16/16 [00:00<00:00, 349.11it/s]\n"
     ]
    }
   ],
   "source": [
    "db_df = ray.data.read_parquet(db_kmers_data['profile'])\n",
    "if db_df.count() != len(db_cls):\n",
    "    db_ids = []\n",
    "    for row in db_df.iter_rows():\n",
    "        db_ids.append(row['id'])\n",
    "    db_cls = db_cls[db_cls['id'].isin(db_ids)]\n",
    "for col in db_cls.columns:\n",
    "            db_cls[col] = db_cls[col].str.lower()\n",
    "db_df = zip_X_y(db_df, db_cls)"
   ]
  },
  {
   "cell_type": "code",
   "execution_count": 23,
   "metadata": {},
   "outputs": [],
   "source": [
    "labels = []\n",
    "nb_cls = 0\n",
    "for row in db_df.iter_rows():\n",
    "    labels.append(row['genus'])\n",
    "nb_cls = len(np.unique(labels))"
   ]
  },
  {
   "cell_type": "code",
   "execution_count": 24,
   "metadata": {},
   "outputs": [
    {
     "name": "stderr",
     "output_type": "stream",
     "text": [
      "Map_Batches: 100%|██████████| 16/16 [00:00<00:00, 64.71it/s]\n",
      "Map_Batches: 100%|██████████| 16/16 [00:00<00:00, 162.68it/s]\n",
      "Map_Batches: 100%|██████████| 16/16 [00:00<00:00, 140.37it/s]\n",
      "Map_Batches: 100%|██████████| 16/16 [00:00<00:00, 182.61it/s]\n"
     ]
    },
    {
     "data": {
      "text/plain": [
       "Chain(TensorMinMaxScaler(columns=['AAAAA', 'AAAAC', 'AAAAG', 'AAAAT', 'AAACA', 'AAACC', 'AAACG', 'AAACT', 'AAAGA', 'AAAGC', 'AAAGG', 'AAAGT', 'AAATA', 'AAATC', 'AAATG', 'AAATT', 'AACAA', 'AACAC', 'AACAG', 'AACAT', 'AACCA', 'AACCC', 'AACCG', 'AACCT', 'AACGA', 'AACGC', 'AACGG', 'AACGT', 'AACTA', 'AACTC', 'AACTG', 'AACTT', 'AAGAA', 'AAGAC', 'AAGAG', 'AAGAT', 'AAGCA', 'AAGCC', 'AAGCG', 'AAGCT', 'AAGGA', 'AAGGC', 'AAGGG', 'AAGGT', 'AAGTA', 'AAGTC', 'AAGTG', 'AATAA', 'AATAC', 'AATAG', 'AATAT', 'AATCA', 'AATCC', 'AATCG', 'AATCT', 'AATGA', 'AATGC', 'AATGG', 'AATGT', 'AATTA', 'AATTC', 'AATTG', 'ACAAA', 'ACAAC', 'ACAAG', 'ACAAT', 'ACACA', 'ACACC', 'ACACG', 'ACACT', 'ACAGA', 'ACAGC', 'ACAGG', 'ACAGT', 'ACATA', 'ACATC', 'ACATG', 'ACCAA', 'ACCAC', 'ACCAG', 'ACCAT', 'ACCCA', 'ACCCC', 'ACCCG', 'ACCCT', 'ACCGA', 'ACCGC', 'ACCGG', 'ACCGT', 'ACCTA', 'ACCTC', 'ACCTG', 'ACGAA', 'ACGAC', 'ACGAG', 'ACGAT', 'ACGCA', 'ACGCC', 'ACGCG', 'ACGCT', 'ACGGA', 'ACGGC', 'ACGGG', 'ACGTA', 'ACGTC', 'ACGTG', 'ACTAA', 'ACTAC', 'ACTAG', 'ACTAT', 'ACTCA', 'ACTCC', 'ACTCG', 'ACTCT', 'ACTGA', 'ACTGC', 'ACTGG', 'ACTTA', 'ACTTC', 'ACTTG', 'AGAAA', 'AGAAC', 'AGAAG', 'AGAAT', 'AGACA', 'AGACC', 'AGACG', 'AGACT', 'AGAGA', 'AGAGC', 'AGAGG', 'AGATA', 'AGATC', 'AGATG', 'AGCAA', 'AGCAC', 'AGCAG', 'AGCAT', 'AGCCA', 'AGCCC', 'AGCCG', 'AGCCT', 'AGCGA', 'AGCGC', 'AGCGG', 'AGCTA', 'AGCTC', 'AGCTG', 'AGGAA', 'AGGAC', 'AGGAG', 'AGGAT', 'AGGCA', 'AGGCC', 'AGGCG', 'AGGGA', 'AGGGC', 'AGGGG', 'AGGTA', 'AGGTC', 'AGGTG', 'AGTAA', 'AGTAC', 'AGTAG', 'AGTAT', 'AGTCA', 'AGTCC', 'AGTCG', 'AGTGA', 'AGTGC', 'AGTGG', 'AGTTA', 'AGTTC', 'AGTTG', 'ATAAA', 'ATAAC', 'ATAAG', 'ATAAT', 'ATACA', 'ATACC', 'ATACG', 'ATAGA', 'ATAGC', 'ATAGG', 'ATATA', 'ATATC', 'ATATG', 'ATCAA', 'ATCAC', 'ATCAG', 'ATCAT', 'ATCCA', 'ATCCC', 'ATCCG', 'ATCGA', 'ATCGC', 'ATCGG', 'ATCTA', 'ATCTC', 'ATCTG', 'ATGAA', 'ATGAC', 'ATGAG', 'ATGCA', 'ATGCC', 'ATGCG', 'ATGGA', 'ATGGC', 'ATGGG', 'ATGTA', 'ATGTC', 'ATGTG', 'ATTAA', 'ATTAC', 'ATTAG', 'ATTCA', 'ATTCC', 'ATTCG', 'ATTGA', 'ATTGC', 'ATTGG', 'ATTTA', 'ATTTC', 'ATTTG', 'CAAAA', 'CAAAC', 'CAAAG', 'CAACA', 'CAACC', 'CAACG', 'CAAGA', 'CAAGC', 'CAAGG', 'CAATA', 'CAATC', 'CAATG', 'CACAA', 'CACAC', 'CACAG', 'CACCA', 'CACCC', 'CACCG', 'CACGA', 'CACGC', 'CACGG', 'CACTA', 'CACTC', 'CACTG', 'CAGAA', 'CAGAC', 'CAGAG', 'CAGCA', 'CAGCC', 'CAGCG', 'CAGGA', 'CAGGC', 'CAGGG', 'CAGTA', 'CAGTC', 'CATAA', 'CATAC', 'CATAG', 'CATCA', 'CATCC', 'CATCG', 'CATGA', 'CATGC', 'CATGG', 'CATTA', 'CATTC', 'CCAAA', 'CCAAC', 'CCAAG', 'CCACA', 'CCACC', 'CCACG', 'CCAGA', 'CCAGC', 'CCAGG', 'CCATA', 'CCATC', 'CCCAA', 'CCCAC', 'CCCAG', 'CCCCA', 'CCCCC', 'CCCCG', 'CCCGA', 'CCCGC', 'CCCGG', 'CCCTA', 'CCCTC', 'CCGAA', 'CCGAC', 'CCGAG', 'CCGCA', 'CCGCC', 'CCGCG', 'CCGGA', 'CCGGC', 'CCGTA', 'CCGTC', 'CCTAA', 'CCTAC', 'CCTAG', 'CCTCA', 'CCTCC', 'CCTCG', 'CCTGA', 'CCTGC', 'CCTTA', 'CCTTC', 'CGAAA', 'CGAAC', 'CGAAG', 'CGACA', 'CGACC', 'CGACG', 'CGAGA', 'CGAGC', 'CGATA', 'CGATC', 'CGCAA', 'CGCAC', 'CGCAG', 'CGCCA', 'CGCCC', 'CGCCG', 'CGCGA', 'CGCGC', 'CGCTA', 'CGCTC', 'CGGAA', 'CGGAC', 'CGGAG', 'CGGCA', 'CGGCC', 'CGGGA', 'CGGGC', 'CGGTA', 'CGGTC', 'CGTAA', 'CGTAC', 'CGTAG', 'CGTCA', 'CGTCC', 'CGTGA', 'CGTGC', 'CGTTA', 'CGTTC', 'CTAAA', 'CTAAC', 'CTAAG', 'CTACA', 'CTACC', 'CTAGA', 'CTAGC', 'CTATA', 'CTATC', 'CTCAA', 'CTCAC', 'CTCAG', 'CTCCA', 'CTCCC', 'CTCGA', 'CTCGC', 'CTCTA', 'CTCTC', 'CTGAA', 'CTGAC', 'CTGCA', 'CTGCC', 'CTGGA', 'CTGGC', 'CTGTA', 'CTGTC', 'CTTAA', 'CTTAC', 'CTTCA', 'CTTCC', 'CTTGA', 'CTTGC', 'CTTTA', 'CTTTC', 'GAAAA', 'GAAAC', 'GAACA', 'GAACC', 'GAAGA', 'GAAGC', 'GAATA', 'GAATC', 'GACAA', 'GACAC', 'GACCA', 'GACCC', 'GACGA', 'GACGC', 'GACTA', 'GACTC', 'GAGAA', 'GAGAC', 'GAGCA', 'GAGCC', 'GAGGA', 'GAGGC', 'GAGTA', 'GATAA', 'GATAC', 'GATCA', 'GATCC', 'GATGA', 'GATGC', 'GATTA', 'GCAAA', 'GCAAC', 'GCACA', 'GCACC', 'GCAGA', 'GCAGC', 'GCATA', 'GCCAA', 'GCCAC', 'GCCCA', 'GCCCC', 'GCCGA', 'GCCGC', 'GCCTA', 'GCGAA', 'GCGAC', 'GCGCA', 'GCGCC', 'GCGGA', 'GCGTA', 'GCTAA', 'GCTAC', 'GCTCA', 'GCTCC', 'GCTGA', 'GCTTA', 'GGAAA', 'GGAAC', 'GGACA', 'GGACC', 'GGAGA', 'GGATA', 'GGCAA', 'GGCAC', 'GGCCA', 'GGCCC', 'GGCGA', 'GGCTA', 'GGGAA', 'GGGAC', 'GGGCA', 'GGGGA', 'GGGTA', 'GGTAA', 'GGTAC', 'GGTCA', 'GGTGA', 'GGTTA', 'GTAAA', 'GTAAC', 'GTACA', 'GTAGA', 'GTATA', 'GTCAA', 'GTCAC', 'GTCCA', 'GTCGA', 'GTCTA', 'GTGAA', 'GTGCA', 'GTGGA', 'GTGTA', 'GTTAA', 'GTTCA', 'GTTGA', 'GTTTA', 'TAAAA', 'TAACA', 'TAAGA', 'TAATA', 'TACAA', 'TACCA', 'TACGA', 'TACTA', 'TAGAA', 'TAGCA', 'TAGGA', 'TATAA', 'TATCA', 'TATGA', 'TCAAA', 'TCACA', 'TCAGA', 'TCCAA', 'TCCCA', 'TCCGA', 'TCGAA', 'TCGCA', 'TCTAA', 'TCTCA', 'TGAAA', 'TGACA', 'TGCAA', 'TGCCA', 'TGGAA', 'TGTAA', 'TTAAA', 'TTCAA']), LabelEncoder(label_column='genus'), OneHotTensorEncoder(columns='genus')"
      ]
     },
     "execution_count": 24,
     "metadata": {},
     "output_type": "execute_result"
    }
   ],
   "source": [
    "preprocessor = Chain(\n",
    "    TensorMinMaxScaler(db_kmers_data['kmers']),\n",
    "    LabelEncoder('genus'),\n",
    "    OneHotTensorEncoder('genus')\n",
    ")\n",
    "preprocessor.fit(db_df)"
   ]
  },
  {
   "attachments": {},
   "cell_type": "markdown",
   "metadata": {},
   "source": [
    "### Validation dataset simulation"
   ]
  },
  {
   "cell_type": "code",
   "execution_count": 25,
   "metadata": {},
   "outputs": [
    {
     "name": "stderr",
     "output_type": "stream",
     "text": [
      "Map_Batches: 100%|██████████| 16/16 [00:00<00:00, 102.95it/s]\n",
      "INFO:iss.app:Starting iss generate\n",
      "INFO:iss.app:Using kde ErrorModel\n",
      "INFO:iss.util:Stitching input files together\n",
      "INFO:iss.app:Using halfnormal abundance distribution\n",
      "INFO:iss.app:Using 8 cpus for read generation\n",
      "INFO:iss.app:Generating 26 reads\n",
      "INFO:iss.app:Generating reads for record: JAAZAC010000025.1\n",
      "INFO:iss.app:Generating reads for record: JABXKY010000147.1\n",
      "INFO:iss.app:Generating reads for record: JAABRC010000419.1\n",
      "INFO:iss.app:Generating reads for record: UQEY01000009.1\n",
      "INFO:iss.app:Generating reads for record: CACNVV010000042.1\n",
      "INFO:iss.app:Generating reads for record: WLHF01000026.1\n",
      "INFO:iss.app:Generating reads for record: DKBA01000026.1\n",
      "INFO:iss.app:Generating reads for record: WBXD01000017.1\n",
      "INFO:iss.app:Generating reads for record: PBSX01000072.1\n",
      "INFO:iss.app:Generating reads for record: CAIXRL010000197.1\n",
      "INFO:iss.app:Generating reads for record: DHMB01000127.1\n",
      "INFO:iss.app:Generating reads for record: JACNFQ010000081.1\n",
      "INFO:iss.app:Generating reads for record: QMMC01000579.1\n",
      "INFO:iss.util:Stitching input files together\n",
      "INFO:iss.util:Stitching input files together\n",
      "INFO:iss.util:Cleaning up\n",
      "INFO:iss.app:Read generation complete\n"
     ]
    },
    {
     "name": "stdout",
     "output_type": "stream",
     "text": [
      "given_kmers\n"
     ]
    },
    {
     "name": "stderr",
     "output_type": "stream",
     "text": [
      "[Parallel(n_jobs=-1)]: Using backend ThreadingBackend with 8 concurrent workers.\n",
      "[Parallel(n_jobs=-1)]: Done  28 out of  28 | elapsed:    1.8s finished\n"
     ]
    },
    {
     "name": "stdout",
     "output_type": "stream",
     "text": [
      "_batch_read_write_given\n"
     ]
    },
    {
     "name": "stderr",
     "output_type": "stream",
     "text": [
      "Repartition: 100%|██████████| 28/28 [00:00<00:00, 59.49it/s]\n",
      "Repartition: 100%|██████████| 28/28 [00:00<00:00, 1309.14it/s]\n",
      "Repartition: 100%|██████████| 28/28 [00:00<00:00, 787.18it/s]\n",
      "Write Progress: 100%|██████████| 28/28 [00:00<00:00, 311.78it/s]\n",
      "Metadata Fetch Progress:   0%|          | 0/4 [00:00<?, ?it/s]\n",
      "Metadata Fetch Progress: 100%|██████████| 4/4 [00:00<00:00, 49.17it/s]\n",
      "Parquet Files Sample: 100%|██████████| 2/2 [00:00<00:00, 137.49it/s]\n",
      "Read: 100%|██████████| 16/16 [00:00<00:00, 99.24it/s]\n",
      "Repartition: 100%|██████████| 28/28 [00:00<00:00, 539.30it/s]\n",
      "Repartition: 100%|██████████| 28/28 [00:00<00:00, 784.09it/s]\n",
      "Repartition: 100%|██████████| 16/16 [00:00<00:00, 448.23it/s]\n",
      "Repartition: 100%|██████████| 16/16 [00:00<00:00, 588.52it/s]\n"
     ]
    }
   ],
   "source": [
    "sim_genomes = []\n",
    "sim_taxas = []\n",
    "val_df = db_df.random_sample(0.3)\n",
    "for row in val_df.iter_rows():\n",
    "    sim_genomes.append(row['id'])\n",
    "    sim_taxas.append(row['genus'])\n",
    "sim_cls = pd.DataFrame({\n",
    "    'id' : sim_genomes,\n",
    "    'genus' : sim_taxas\n",
    "})\n",
    "sim_outdir = os.path.dirname(db_kmers_data['profile'])\n",
    "sim_val = readsSimulation(\n",
    "    Path(db_kmers_data['fasta']),\n",
    "    sim_cls,\n",
    "    sim_genomes,\n",
    "    'miseq',\n",
    "    sim_outdir,\n",
    "    'validation'\n",
    ")\n",
    "val_data = sim_val.simulation(klen, db_kmers_data['kmers'])\n",
    "val_data\n",
    "val_ids = val_data['ids']\n",
    "val_cls = pd.DataFrame({'sim_id' : val_ids}, dtype = object)\n",
    "val_cls['id'] = val_cls['sim_id'].str.replace('_[0-9]+_[0-9]+_[0-9]+', '', regex=True)\n",
    "val_cls = val_cls.set_index('id').join(sim_cls.set_index('id'))\n",
    "val_cls = val_cls.drop(['sim_id'], axis=1)\n",
    "val_cls = val_cls.reset_index(drop=True)\n",
    "val_df = ray.data.read_parquet(val_data['profile'])\n",
    "val_df = zip_X_y(val_df, val_cls)"
   ]
  },
  {
   "attachments": {},
   "cell_type": "markdown",
   "metadata": {},
   "source": [
    "### Training"
   ]
  },
  {
   "cell_type": "code",
   "execution_count": 26,
   "metadata": {},
   "outputs": [],
   "source": [
    "def train_func(config):\n",
    "    # Parameters\n",
    "    batch_size = config.get('batch_size', 128)\n",
    "    epochs = config.get('epochs', 10)\n",
    "    size = config.get('size')\n",
    "    nb_cls = config.get('nb_cls')\n",
    "    model = config.get('model')\n",
    "\n",
    "    # Model setup\n",
    "    strategy = tf.distribute.MultiWorkerMirroredStrategy()\n",
    "    with strategy.scope():\n",
    "        model = build_wideCNN(size, nb_cls)\n",
    "\n",
    "    # Load data directly to workers instead of serializing it?\n",
    "    train_data = session.get_dataset_shard('train')\n",
    "    val_data = session.get_dataset_shard('validation')\n",
    "\n",
    "    def to_tf_dataset(data, batch_size):\n",
    "        def to_tensor_iterator():\n",
    "            for batch in data.iter_tf_batches(\n",
    "                batch_size=batch_size\n",
    "            ):\n",
    "                yield batch['__value__'], batch['labels']\n",
    "\n",
    "        output_signature = (\n",
    "            tf.TensorSpec(shape=(None, size), dtype=tf.float32),\n",
    "            tf.TensorSpec(shape=(None, nb_cls), dtype=tf.int64),\n",
    "        )\n",
    "        tf_data = tf.data.Dataset.from_generator(\n",
    "            to_tensor_iterator, output_signature=output_signature\n",
    "        )\n",
    "        return prepare_dataset_shard(tf_data)\n",
    "\n",
    "    batch_val = to_tf_dataset(val_data, batch_size)\n",
    "\n",
    "    # Fit the model on streaming data\n",
    "    for epoch_train in train_data.iter_epochs(epochs):\n",
    "        batch_train = to_tf_dataset(epoch_train, batch_size)\n",
    "        history = model.fit(\n",
    "            x=batch_train,\n",
    "            validation_data=batch_val,\n",
    "            callbacks=[Callback()],\n",
    "            verbose=0\n",
    "        )\n",
    "        session.report({\n",
    "            'accuracy': history.history['accuracy'][0],\n",
    "            'loss': history.history['loss'][0],\n",
    "            'val_accuracy': history.history['val_accuracy'][0],\n",
    "            'val_loss': history.history['val_loss'][0],\n",
    "        },\n",
    "            checkpoint=TensorflowCheckpoint.from_model(model)\n",
    "        )\n",
    "        gc.collect()\n",
    "        tf.keras.backend.clear_session()\n",
    "    del model\n",
    "    gc.collect()\n",
    "    tf.keras.backend.clear_session()\n"
   ]
  },
  {
   "cell_type": "code",
   "execution_count": 27,
   "metadata": {},
   "outputs": [],
   "source": [
    "nb_CPU_data = int(os.cpu_count() * 0.2)\n",
    "nb_CPU_training = int(os.cpu_count() - nb_CPU_data)\n",
    "nb_GPU = len(tf.config.list_physical_devices('GPU'))\n",
    "nb_CPU_per_worker = 0\n",
    "nb_GPU_per_worker = 0\n",
    "if nb_GPU > 0:\n",
    "    use_gpu = True\n",
    "    n_workers = nb_GPU\n",
    "    nb_CPU_per_worker = int(nb_CPU_training / n_workers)\n",
    "    nb_GPU_per_worker = 1\n",
    "else:\n",
    "    use_gpu = False\n",
    "    n_workers = int(nb_CPU_training * 0.2)\n",
    "    nb_CPU_per_worker = int(int(nb_CPU_training * 0.8) / n_workers)"
   ]
  },
  {
   "cell_type": "code",
   "execution_count": 28,
   "metadata": {},
   "outputs": [
    {
     "name": "stderr",
     "output_type": "stream",
     "text": [
      "Map_Batches: 100%|██████████| 16/16 [00:00<00:00, 136.66it/s]\n",
      "Map_Batches: 100%|██████████| 16/16 [00:01<00:00, 14.63it/s]\n",
      "Map_Batches: 100%|██████████| 16/16 [00:00<00:00, 114.35it/s]\n",
      "Map_Batches: 100%|██████████| 16/16 [00:00<00:00, 85.52it/s]\n",
      "Map_Batches: 100%|██████████| 16/16 [00:00<00:00, 123.06it/s]\n",
      "Map_Batches: 100%|██████████| 16/16 [00:00<00:00, 16.76it/s]\n",
      "Map_Batches: 100%|██████████| 16/16 [00:00<00:00, 144.19it/s]\n",
      "Map_Batches: 100%|██████████| 16/16 [00:00<00:00, 130.22it/s]\n"
     ]
    }
   ],
   "source": [
    "db_df = db_df.drop_columns(['id'])\n",
    "db_df = preprocessor.transform(db_df)\n",
    "val_df = val_df.drop_columns(['id'])\n",
    "val_df = preprocessor.transform(val_df)\n",
    "datasets = {'train': db_df, 'validation': val_df}"
   ]
  },
  {
   "cell_type": "code",
   "execution_count": 29,
   "metadata": {},
   "outputs": [],
   "source": [
    "train_params = {\n",
    "    'batch_size': batch_size,\n",
    "    'epochs': epochs,\n",
    "    'size': len(db_kmers_data['kmers']),\n",
    "    'nb_cls': nb_cls,\n",
    "    'model': 'widecnn'\n",
    "}\n",
    "trainer = TensorflowTrainer(\n",
    "    train_loop_per_worker = train_func,\n",
    "    train_loop_config = train_params,\n",
    "    scaling_config = ScalingConfig(\n",
    "        trainer_resources={'CPU': nb_CPU_data},\n",
    "        num_workers = n_workers,\n",
    "        use_gpu = use_gpu,\n",
    "        resources_per_worker={\n",
    "            'CPU': nb_CPU_per_worker,\n",
    "            'GPU': nb_GPU_per_worker\n",
    "        }\n",
    "    ),\n",
    "    dataset_config = {\n",
    "        'train': DatasetConfig(\n",
    "            fit = False,\n",
    "            transform = False,\n",
    "            split = True,\n",
    "            use_stream_api = True\n",
    "        ),\n",
    "        'validation': DatasetConfig(\n",
    "            fit = False,\n",
    "            transform = False,\n",
    "            split = True,\n",
    "            use_stream_api = False\n",
    "        )\n",
    "    },\n",
    "    run_config = RunConfig(\n",
    "        name = 'WideCNN',\n",
    "        local_dir = workdir,\n",
    "    ),\n",
    "    datasets = datasets,\n",
    ")"
   ]
  },
  {
   "cell_type": "code",
   "execution_count": 30,
   "metadata": {},
   "outputs": [
    {
     "data": {
      "text/html": [
       "<div class=\"tuneStatus\">\n",
       "  <div style=\"display: flex;flex-direction: row\">\n",
       "    <div style=\"display: flex;flex-direction: column;\">\n",
       "      <h3>Tune Status</h3>\n",
       "      <table>\n",
       "<tbody>\n",
       "<tr><td>Current time:</td><td>2023-03-13 15:51:19</td></tr>\n",
       "<tr><td>Running for: </td><td>00:00:03.36        </td></tr>\n",
       "<tr><td>Memory:      </td><td>6.4/12.4 GiB       </td></tr>\n",
       "</tbody>\n",
       "</table>\n",
       "    </div>\n",
       "    <div class=\"vDivider\"></div>\n",
       "    <div class=\"systemInfo\">\n",
       "      <h3>System Info</h3>\n",
       "      Using FIFO scheduling algorithm.<br>Resources requested: 6.0/8 CPUs, 0/0 GPUs, 0.0/4.19 GiB heap, 0.0/2.1 GiB objects\n",
       "    </div>\n",
       "    \n",
       "  </div>\n",
       "  <div class=\"hDivider\"></div>\n",
       "  <div class=\"trialStatus\">\n",
       "    <h3>Trial Status</h3>\n",
       "    <table>\n",
       "<thead>\n",
       "<tr><th>Trial name                   </th><th>status  </th><th>loc                 </th></tr>\n",
       "</thead>\n",
       "<tbody>\n",
       "<tr><td>TensorflowTrainer_6ab93_00000</td><td>RUNNING </td><td>192.168.65.207:29527</td></tr>\n",
       "</tbody>\n",
       "</table>\n",
       "  </div>\n",
       "</div>\n",
       "<style>\n",
       ".tuneStatus {\n",
       "  color: var(--jp-ui-font-color1);\n",
       "}\n",
       ".tuneStatus .systemInfo {\n",
       "  display: flex;\n",
       "  flex-direction: column;\n",
       "}\n",
       ".tuneStatus td {\n",
       "  white-space: nowrap;\n",
       "}\n",
       ".tuneStatus .trialStatus {\n",
       "  display: flex;\n",
       "  flex-direction: column;\n",
       "}\n",
       ".tuneStatus h3 {\n",
       "  font-weight: bold;\n",
       "}\n",
       ".tuneStatus .hDivider {\n",
       "  border-bottom-width: var(--jp-border-width);\n",
       "  border-bottom-color: var(--jp-border-color0);\n",
       "  border-bottom-style: solid;\n",
       "}\n",
       ".tuneStatus .vDivider {\n",
       "  border-left-width: var(--jp-border-width);\n",
       "  border-left-color: var(--jp-border-color0);\n",
       "  border-left-style: solid;\n",
       "  margin: 0.5em 1em 0.5em 1em;\n",
       "}\n",
       "</style>\n"
      ],
      "text/plain": [
       "<IPython.core.display.HTML object>"
      ]
     },
     "metadata": {},
     "output_type": "display_data"
    },
    {
     "name": "stderr",
     "output_type": "stream",
     "text": [
      "\u001b[2m\u001b[36m(TensorflowTrainer pid=29527)\u001b[0m 2023-03-13 15:51:22,846\tINFO dataset.py:3693 -- Created DatasetPipeline with 1 windows: 0.13MiB min, 0.13MiB max, 0.13MiB mean\n",
      "\u001b[2m\u001b[36m(TensorflowTrainer pid=29527)\u001b[0m 2023-03-13 15:51:22,846\tINFO dataset.py:3703 -- Blocks per window: 16 min, 16 max, 16 mean\n",
      "\u001b[2m\u001b[36m(TensorflowTrainer pid=29527)\u001b[0m 2023-03-13 15:51:22,848\tINFO dataset.py:3725 -- ✔️  This pipeline's per-window parallelism is high enough to fully utilize the cluster.\n",
      "\u001b[2m\u001b[36m(TensorflowTrainer pid=29527)\u001b[0m 2023-03-13 15:51:22,848\tINFO dataset.py:3742 -- ✔️  This pipeline's windows likely fit in object store memory without spilling.\n",
      "Stage 0:   0%|          | 0/1 [00:00<?, ?it/s]=29591)\u001b[0m \n",
      "  0%|          | 0/1 [00:00<?, ?it/s]\u001b[Aor pid=29591)\u001b[0m \n",
      "Stage 1:   0%|          | 0/1 [00:00<?, ?it/s]\u001b[A591)\u001b[0m \n",
      "\u001b[2m\u001b[36m(PipelineSplitExecutorCoordinator pid=29591)\u001b[0m \n",
      "Stage 0: : 4it [00:03,  1.27it/s]             \u001b[A591)\u001b[0m \n"
     ]
    },
    {
     "data": {
      "text/html": [
       "<div class=\"trialProgress\">\n",
       "  <h3>Trial Progress</h3>\n",
       "  <table>\n",
       "<thead>\n",
       "<tr><th>Trial name                   </th><th style=\"text-align: right;\">  _time_this_iter_s</th><th style=\"text-align: right;\">  _timestamp</th><th style=\"text-align: right;\">  _training_iteration</th><th style=\"text-align: right;\">  accuracy</th><th>date               </th><th>done  </th><th>episodes_total  </th><th>experiment_id                   </th><th>hostname       </th><th style=\"text-align: right;\">  iterations_since_restore</th><th style=\"text-align: right;\">   loss</th><th>node_ip       </th><th style=\"text-align: right;\">  pid</th><th>should_checkpoint  </th><th style=\"text-align: right;\">  time_since_restore</th><th style=\"text-align: right;\">  time_this_iter_s</th><th style=\"text-align: right;\">  time_total_s</th><th style=\"text-align: right;\">  timestamp</th><th style=\"text-align: right;\">  timesteps_since_restore</th><th>timesteps_total  </th><th style=\"text-align: right;\">  training_iteration</th><th>trial_id   </th><th style=\"text-align: right;\">  val_accuracy</th><th style=\"text-align: right;\">  val_loss</th><th style=\"text-align: right;\">  warmup_time</th></tr>\n",
       "</thead>\n",
       "<tbody>\n",
       "<tr><td>TensorflowTrainer_6ab93_00000</td><td style=\"text-align: right;\">            12.5321</td><td style=\"text-align: right;\">  1678737113</td><td style=\"text-align: right;\">                    3</td><td style=\"text-align: right;\"> 0.0689655</td><td>2023-03-13_15-51-53</td><td>False </td><td>                </td><td>c4fd5b07b4aa4d6481b9e7439f6334fb</td><td>DESKTOP-TM4J0AE</td><td style=\"text-align: right;\">                         3</td><td style=\"text-align: right;\">3.33265</td><td>192.168.65.207</td><td style=\"text-align: right;\">29527</td><td>True               </td><td style=\"text-align: right;\">             33.5966</td><td style=\"text-align: right;\">           12.5317</td><td style=\"text-align: right;\">       33.5966</td><td style=\"text-align: right;\"> 1678737113</td><td style=\"text-align: right;\">                        0</td><td>                 </td><td style=\"text-align: right;\">                   3</td><td>6ab93_00000</td><td style=\"text-align: right;\">             0</td><td style=\"text-align: right;\">   3.33878</td><td style=\"text-align: right;\">     0.258061</td></tr>\n",
       "</tbody>\n",
       "</table>\n",
       "</div>\n",
       "<style>\n",
       ".trialProgress {\n",
       "  display: flex;\n",
       "  flex-direction: column;\n",
       "  color: var(--jp-ui-font-color1);\n",
       "}\n",
       ".trialProgress h3 {\n",
       "  font-weight: bold;\n",
       "}\n",
       ".trialProgress td {\n",
       "  white-space: nowrap;\n",
       "}\n",
       "</style>\n"
      ],
      "text/plain": [
       "<IPython.core.display.HTML object>"
      ]
     },
     "metadata": {},
     "output_type": "display_data"
    },
    {
     "name": "stderr",
     "output_type": "stream",
     "text": [
      "\u001b[2m\u001b[36m(PipelineSplitExecutorCoordinator pid=29591)\u001b[0m \n",
      "Stage 0: : 5it [00:17,  4.29s/it]\u001b[Ainator pid=29591)\u001b[0m \n",
      "\u001b[2m\u001b[36m(PipelineSplitExecutorCoordinator pid=29591)\u001b[0m \n",
      "Stage 0: : 6it [00:29,  6.58s/it]\u001b[Ainator pid=29591)\u001b[0m \n",
      "\u001b[2m\u001b[36m(PipelineSplitExecutorCoordinator pid=29591)\u001b[0m \n",
      "Stage 0: : 7it [00:42,  8.31s/it]\u001b[Ainator pid=29591)\u001b[0m \n",
      "\u001b[2m\u001b[36m(PipelineSplitExecutorCoordinator pid=29591)\u001b[0m \n",
      "Stage 0: : 8it [00:55,  9.67s/it]\u001b[Ainator pid=29591)\u001b[0m \n",
      "\u001b[2m\u001b[36m(PipelineSplitExecutorCoordinator pid=29591)\u001b[0m \n",
      "Stage 0: : 9it [01:09, 10.72s/it]\u001b[Ainator pid=29591)\u001b[0m \n",
      "\u001b[2m\u001b[36m(PipelineSplitExecutorCoordinator pid=29591)\u001b[0m \n",
      "Stage 0: : 10it [01:21, 11.36s/it][Ainator pid=29591)\u001b[0m \n",
      "\u001b[2m\u001b[36m(PipelineSplitExecutorCoordinator pid=29591)\u001b[0m \n",
      "Stage 0: : 11it [01:35, 12.05s/it]\u001b[Anator pid=29591)\u001b[0m \n",
      "\u001b[2m\u001b[36m(PipelineSplitExecutorCoordinator pid=29591)\u001b[0m \n",
      "Stage 0: : 12it [01:49, 12.47s/it]\u001b[Anator pid=29591)\u001b[0m \n",
      "\u001b[2m\u001b[36m(PipelineSplitExecutorCoordinator pid=29591)\u001b[0m \n",
      "Stage 0: : 13it [02:02, 12.89s/it]\u001b[Anator pid=29591)\u001b[0m \n",
      "2023-03-13 15:53:43,102\tINFO tune.py:762 -- Total run time: 146.51 seconds (146.39 seconds for the tuning loop).\n"
     ]
    }
   ],
   "source": [
    "training_result = trainer.fit()\n",
    "model_ckpt = training_result.best_checkpoints[0][0]"
   ]
  },
  {
   "attachments": {},
   "cell_type": "markdown",
   "metadata": {},
   "source": [
    "### Predicting"
   ]
  },
  {
   "cell_type": "code",
   "execution_count": 31,
   "metadata": {},
   "outputs": [
    {
     "name": "stderr",
     "output_type": "stream",
     "text": [
      "Map_Batches: 100%|██████████| 16/16 [00:00<00:00, 110.38it/s]\n",
      "Map_Batches: 100%|██████████| 16/16 [00:02<00:00,  6.19it/s]\n",
      "Map Progress (7 actors 2 pending): 100%|██████████| 16/16 [00:39<00:00,  2.44s/it]\n"
     ]
    }
   ],
   "source": [
    "if len(metagenome_df.schema().names) > 1:\n",
    "    col_2_drop = [col for col in metagenome_df.schema().names if col != '__value__']\n",
    "    metagenome_df = metagenome_df.drop_columns(col_2_drop)\n",
    "\n",
    "metagenome_df = preprocessor.preprocessors[0].transform(metagenome_df)\n",
    "\n",
    "predictor = BatchPredictor.from_checkpoint(\n",
    "    model_ckpt,\n",
    "    TensorflowPredictor,\n",
    "    model_definition = lambda: build_wideCNN(len(db_kmers_data['kmers']), nb_cls)\n",
    ")\n",
    "predictions = predictor.predict(\n",
    "    data = metagenome_df,\n",
    "    batch_size = batch_size\n",
    ")"
   ]
  },
  {
   "cell_type": "code",
   "execution_count": 32,
   "metadata": {},
   "outputs": [],
   "source": [
    "def map_predicted_label_multiclass(df, threshold):\n",
    "    predict = pd.DataFrame({\n",
    "        'best_proba': [df['predictions'][i][np.argmax(df['predictions'][i])] for i in range(len(df))],\n",
    "        'predicted_label': df[\"predictions\"].map(lambda x: np.array(x).argmax())\n",
    "    })\n",
    "    predict.loc[predict['best_proba'] < threshold, 'predicted_label'] = -1\n",
    "    return predict['predicted_label'].to_numpy(dtype = np.int32)"
   ]
  },
  {
   "cell_type": "code",
   "execution_count": 33,
   "metadata": {},
   "outputs": [
    {
     "name": "stderr",
     "output_type": "stream",
     "text": [
      "[Parallel(n_jobs=-1)]: Using backend ThreadingBackend with 8 concurrent workers.\n",
      "[Parallel(n_jobs=-1)]: Done  34 tasks      | elapsed:    0.3s\n",
      "[Parallel(n_jobs=-1)]: Done 184 tasks      | elapsed:    0.9s\n",
      "[Parallel(n_jobs=-1)]: Done 298 out of 298 | elapsed:    1.3s finished\n"
     ]
    }
   ],
   "source": [
    "with parallel_backend('threading'):\n",
    "    predict = Parallel(n_jobs=-1, prefer='threads', verbose=1)(\n",
    "        delayed(map_predicted_label_multiclass)(batch, classif_threshold) for batch in predictions.iter_batches(batch_size = batch_size))\n",
    "\n",
    "predictions = np.concatenate(predict)"
   ]
  },
  {
   "cell_type": "code",
   "execution_count": 34,
   "metadata": {},
   "outputs": [],
   "source": [
    "encoded = []\n",
    "encoded.append(-1)\n",
    "labels = ['unknown']\n",
    "for k, v in preprocessor.preprocessors[1].stats_['unique_values({})'.format('genus')].items():\n",
    "    encoded.append(v)\n",
    "    labels.append(k)\n",
    "predictions_widecnn = pd.Series(np.empty(len(predictions), dtype=object))\n",
    "for label, coded in zip(labels, encoded):\n",
    "    predictions_widecnn[predictions == coded] = label"
   ]
  },
  {
   "attachments": {},
   "cell_type": "markdown",
   "metadata": {},
   "source": [
    "# Results"
   ]
  },
  {
   "cell_type": "code",
   "execution_count": 35,
   "metadata": {},
   "outputs": [
    {
     "data": {
      "text/html": [
       "<div>\n",
       "<style scoped>\n",
       "    .dataframe tbody tr th:only-of-type {\n",
       "        vertical-align: middle;\n",
       "    }\n",
       "\n",
       "    .dataframe tbody tr th {\n",
       "        vertical-align: top;\n",
       "    }\n",
       "\n",
       "    .dataframe thead th {\n",
       "        text-align: right;\n",
       "    }\n",
       "</style>\n",
       "<table border=\"1\" class=\"dataframe\">\n",
       "  <thead>\n",
       "    <tr style=\"text-align: right;\">\n",
       "      <th></th>\n",
       "      <th>classification</th>\n",
       "      <th>abundance</th>\n",
       "    </tr>\n",
       "  </thead>\n",
       "  <tbody>\n",
       "    <tr>\n",
       "      <th>0</th>\n",
       "      <td>bacteria</td>\n",
       "      <td>298</td>\n",
       "    </tr>\n",
       "  </tbody>\n",
       "</table>\n",
       "</div>"
      ],
      "text/plain": [
       "  classification  abundance\n",
       "0       bacteria        298"
      ]
     },
     "execution_count": 35,
     "metadata": {},
     "output_type": "execute_result"
    }
   ],
   "source": [
    "clf_onesvm = pd.DataFrame(\n",
    "    predictions_onesvm.value_counts(),\n",
    "    columns = ['abundance']\n",
    ")\n",
    "clf_onesvm = clf_onesvm.reset_index(names = 'classification')\n",
    "clf_onesvm\n"
   ]
  },
  {
   "cell_type": "code",
   "execution_count": 36,
   "metadata": {},
   "outputs": [
    {
     "data": {
      "text/html": [
       "<div>\n",
       "<style scoped>\n",
       "    .dataframe tbody tr th:only-of-type {\n",
       "        vertical-align: middle;\n",
       "    }\n",
       "\n",
       "    .dataframe tbody tr th {\n",
       "        vertical-align: top;\n",
       "    }\n",
       "\n",
       "    .dataframe thead th {\n",
       "        text-align: right;\n",
       "    }\n",
       "</style>\n",
       "<table border=\"1\" class=\"dataframe\">\n",
       "  <thead>\n",
       "    <tr style=\"text-align: right;\">\n",
       "      <th></th>\n",
       "      <th>classification</th>\n",
       "      <th>abundance</th>\n",
       "    </tr>\n",
       "  </thead>\n",
       "  <tbody>\n",
       "    <tr>\n",
       "      <th>0</th>\n",
       "      <td>unknown</td>\n",
       "      <td>298</td>\n",
       "    </tr>\n",
       "  </tbody>\n",
       "</table>\n",
       "</div>"
      ],
      "text/plain": [
       "  classification  abundance\n",
       "0        unknown        298"
      ]
     },
     "execution_count": 36,
     "metadata": {},
     "output_type": "execute_result"
    }
   ],
   "source": [
    "clf_widecnn = pd.DataFrame(\n",
    "    predictions_widecnn.value_counts(),\n",
    "    columns = ['abundance']\n",
    ")\n",
    "clf_widecnn = clf_widecnn.reset_index(names = 'classification')\n",
    "clf_widecnn"
   ]
  },
  {
   "cell_type": "code",
   "execution_count": 37,
   "metadata": {},
   "outputs": [
    {
     "data": {
      "text/plain": [
       "<AxesSubplot:xlabel='classification', ylabel='abundance'>"
      ]
     },
     "execution_count": 37,
     "metadata": {},
     "output_type": "execute_result"
    },
    {
     "data": {
      "image/png": "[encoded data removed]",
      "text/plain": [
       "<Figure size 640x480 with 1 Axes>"
      ]
     },
     "metadata": {},
     "output_type": "display_data"
    }
   ],
   "source": [
    "sns.barplot(\n",
    "    y = 'abundance',\n",
    "    x = 'classification',\n",
    "    data = clf_onesvm,\n",
    "    estimator = sum,\n",
    "    ci = None,\n",
    ")"
   ]
  },
  {
   "cell_type": "code",
   "execution_count": 38,
   "metadata": {},
   "outputs": [
    {
     "data": {
      "text/plain": [
       "<AxesSubplot:xlabel='classification', ylabel='abundance'>"
      ]
     },
     "execution_count": 38,
     "metadata": {},
     "output_type": "execute_result"
    },
    {
     "data": {
      "image/png": "[encoded data removed]",
      "text/plain": [
       "<Figure size 640x480 with 1 Axes>"
      ]
     },
     "metadata": {},
     "output_type": "display_data"
    }
   ],
   "source": [
    "sns.barplot(\n",
    "    y = 'abundance',\n",
    "    x = 'classification',\n",
    "    data = clf_widecnn,\n",
    "    estimator = sum,\n",
    "    ci = None,\n",
    ")"
   ]
  }
 ],
 "metadata": {
  "kernelspec": {
   "display_name": "Python 3 (ipykernel)",
   "language": "python",
   "name": "python3"
  },
  "language_info": {
   "codemirror_mode": {
    "name": "ipython",
    "version": 3
   },
   "file_extension": ".py",
   "mimetype": "text/x-python",
   "name": "python",
   "nbconvert_exporter": "python",
   "pygments_lexer": "ipython3",
   "version": "3.8.10"
  },
  "orig_nbformat": 4
 },
 "nbformat": 4,
 "nbformat_minor": 2
}
